{
 "cells": [
  {
   "cell_type": "markdown",
   "metadata": {},
   "source": [
    "# Features for DTW"
   ]
  },
  {
   "cell_type": "markdown",
   "metadata": {},
   "source": [
    "## Import libraries"
   ]
  },
  {
   "cell_type": "code",
   "execution_count": null,
   "metadata": {},
   "outputs": [],
   "source": [
    "# Import module\n",
    "import pandas as pd\n",
    "import numpy as np\n",
    "\n",
    "%matplotlib inline\n",
    "import matplotlib.pyplot as plt\n",
    "from matplotlib.path import Path\n",
    "from matplotlib import image"
   ]
  },
  {
   "cell_type": "markdown",
   "metadata": {},
   "source": [
    "## Load data"
   ]
  },
  {
   "cell_type": "code",
   "execution_count": null,
   "metadata": {},
   "outputs": [],
   "source": [
    "import preproc\n",
    "\n",
    "results = preproc.main()\n",
    "img = results['273-01-01']\n",
    "show_image(img)"
   ]
  },
  {
   "cell_type": "markdown",
   "metadata": {},
   "source": [
    "## Features functions"
   ]
  },
  {
   "cell_type": "code",
   "execution_count": null,
   "metadata": {},
   "outputs": [],
   "source": [
    "# Returns the index of the pixel composing the lower contour of the shape.\n",
    "def lowerContour(feature_vector):\n",
    "#     If there is no black pixels\n",
    "    if np.size(np.where(feature_vector == 1)) == 0:\n",
    "        lc = None\n",
    "    else:\n",
    "        lc = np.max(np.where(feature_vector == 1))\n",
    "    return lc\n",
    "\n",
    "# Returns the index of the pixel composing the upper contour of the shape.\n",
    "def upperContour(feature_vector):\n",
    "#     If there is no black pixels\n",
    "    if np.size(np.where(feature_vector == 1)) == 0:\n",
    "        uc = None\n",
    "    else:\n",
    "        uc = np.min(np.where(feature_vector == 1))\n",
    "    return uc\n",
    "\n",
    "# Number of black and white transitions\n",
    "def transitions(feature_vector):\n",
    "#     If there is no black pixels\n",
    "    if np.size(np.where(feature_vector == 1)) == 0:\n",
    "        return None\n",
    "\n",
    "    transitions = 0\n",
    "    for i in range(1,np.size(feature_vector)):\n",
    "        if feature_vector[i] != feature_vector[i-1]:\n",
    "            transitions += 1\n",
    "    \n",
    "    return transitions\n",
    "    \n",
    "\n",
    "# Returns the fraction of blach pixels in the feature vector.\n",
    "def fracBlackPx(feature_vector):\n",
    "    nb_bp = (feature_vector == 1).sum()\n",
    "    fraction = nb_bp/np.size(feature_vector)\n",
    "    return fraction\n",
    "\n",
    "# Returns the fraction of blach pixels between the lower and upper contour of the feature vector.\n",
    "def fracBetweenLcUc(feature_vector, lc, uc):\n",
    "#     If there is no black pixels    \n",
    "    if lc is None or uc is None:\n",
    "        return None\n",
    "\n",
    "    between = feature_vector[uc:lc+1] # +1 to put in the black pixel of the lower contour\n",
    "    return fracBlackPx(between)\n",
    "\n",
    "# Gradient: difference LC[i] , UC[i] to LC[i+1] , UC[i+1]\n",
    "def gradient(lci, lci1, uci, uci1):\n",
    "    if uci is None or uci1 is None or lci is None or lci1 is None:\n",
    "        return None\n",
    "    if uci1 == lci1:\n",
    "        return None\n",
    "    return (uci-lci)/(uci1-lci1)"
   ]
  },
  {
   "cell_type": "code",
   "execution_count": null,
   "metadata": {},
   "outputs": [],
   "source": [
    "# each column of the image is a feature vector (1 px wide)\n",
    "m, n = np.shape(img)\n",
    "matrix = []\n",
    "prev_lc = -1\n",
    "prev_uc = -1\n",
    "for i in range(m):\n",
    "    fv = img[:,i]\n",
    "    print(f\"feature vector {i}: {fv}\")\n",
    "    \n",
    "    lc = lowerContour(fv)\n",
    "    print(f\"lower contour: {lc}\")\n",
    "    \n",
    "    uc = upperContour(fv)\n",
    "    print(f\"upper contour: {uc}\")    \n",
    "    \n",
    "    t = transitions(fv)\n",
    "    print(f\"transitions: {t}\")\n",
    "    \n",
    "    frac_blk_px = fracBlackPx(fv)\n",
    "    print(f\"fraction black pixels: {frac_blk_px}\")\n",
    "    \n",
    "    frac_lc_uc = fracBetweenLcUc(fv, lc, uc)\n",
    "    print(f\"fraction black pixels lc-uc: {frac_lc_uc}\")\n",
    "    \n",
    "    g = None\n",
    "    if prev_lc != -1:\n",
    "        g = gradient(prev_lc, lc, prev_uc, uc)\n",
    "    \n",
    "    print(f\"gradient: {g}\")\n",
    "\n",
    "    prev_lc = lc\n",
    "    prev_uc = uc\n",
    "    \n",
    "    matrix.append([lc, uc, t, frac_blk_px, frac_lc_uc, g])\n",
    "    print(\"\\n\")\n",
    "matrix"
   ]
  }
 ],
 "metadata": {
  "kernelspec": {
   "display_name": "Python 3",
   "language": "python",
   "name": "python3"
  },
  "language_info": {
   "codemirror_mode": {
    "name": "ipython",
    "version": 3
   },
   "file_extension": ".py",
   "mimetype": "text/x-python",
   "name": "python",
   "nbconvert_exporter": "python",
   "pygments_lexer": "ipython3",
   "version": "3.7.4"
  }
 },
 "nbformat": 4,
 "nbformat_minor": 4
}
