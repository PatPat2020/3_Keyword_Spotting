{
 "cells": [
  {
   "cell_type": "markdown",
   "metadata": {},
   "source": [
    "# Features for DTW"
   ]
  },
  {
   "cell_type": "markdown",
   "metadata": {},
   "source": [
    "## Import libraries"
   ]
  },
  {
   "cell_type": "code",
   "execution_count": null,
   "metadata": {},
   "outputs": [],
   "source": [
    "# Import module\n",
    "import pandas as pd\n",
    "import numpy as np\n",
    "\n",
    "%matplotlib inline\n",
    "import matplotlib.pyplot as plt\n",
    "from matplotlib.path import Path\n",
    "from matplotlib import image\n",
    "\n",
    "from xml.dom import minidom\n",
    "import re\n",
    "from scipy import ndimage\n",
    "import os\n",
    "\n",
    "from skimage.filters import threshold_sauvola, threshold_otsu\n",
    "from skimage.transform import resize\n",
    "\n",
    "from PIL import Image, ImageDraw\n",
    "\n",
    "# Path to temporary dataset --> Mnist one\n",
    "mnist_train = \"./../../dataset/csv/mnist_train.csv\""
   ]
  },
  {
   "cell_type": "code",
   "execution_count": null,
   "metadata": {},
   "outputs": [],
   "source": [
    "def masking(number):\n",
    "    dataset = os.path.join('..', 'dataset')\n",
    "    img_fold = os.path.join(dataset, 'images')\n",
    "    doc_fold = os.path.join(dataset, 'ground-truth', 'locations')\n",
    "    \n",
    "    img = image.imread(os.path.join(img_fold, '%d.jpg' % number))\n",
    "    nr, nc = img.shape\n",
    "    ygrid, xgrid = np.mgrid[:nr, :nc]\n",
    "    xypix = np.vstack((xgrid.ravel(), ygrid.ravel())).T\n",
    "\n",
    "    doc = minidom.parse(os.path.join(doc_fold, '%d.svg' % number))\n",
    "\n",
    "    firstPaths = doc.getElementsByTagName('path')[0]\n",
    "    \n",
    "    _d = firstPaths.getAttribute('d')\n",
    "    _d = re.sub('[MLSZ]', '', _d)\n",
    "    d = np.fromstring(_d, dtype=float, sep=' ')\n",
    "    cell = np.reshape(d, (int(len(d)/2), 2))\n",
    "\n",
    "    pth = Path(cell, closed=False)\n",
    "\n",
    "    xc = cell[:, 0]\n",
    "    yc = cell[:, 1]\n",
    "\n",
    "    mask = pth.contains_points(xypix, radius=0.1)\n",
    "\n",
    "    mask = mask.reshape(img.shape)\n",
    "\n",
    "    masked = np.ma.masked_array(img, ~mask)\n",
    "\n",
    "    masked = masked.filled(255)\n",
    "\n",
    "    xmin, xmax = int(xc.min()), int(np.ceil(xc.max()))\n",
    "    ymin, ymax = int(yc.min()), int(np.ceil(yc.max()))\n",
    "\n",
    "    trimmed = masked[ymin:ymax, xmin:xmax]\n",
    "    print(trimmed.shape)\n",
    "\n",
    "    return trimmed\n"
   ]
  },
  {
   "cell_type": "code",
   "execution_count": null,
   "metadata": {},
   "outputs": [],
   "source": [
    "trimmedimg = masking(270)\n",
    "plt.imshow(trimmedimg, cmap=plt.cm.gray)\n",
    "plt.show()"
   ]
  },
  {
   "cell_type": "code",
   "execution_count": null,
   "metadata": {},
   "outputs": [],
   "source": [
    "resizedimg = resize(trimmedimg, (100, 100))\n",
    "plt.imshow(resizedimg, cmap=plt.cm.gray)\n",
    "plt.show()"
   ]
  },
  {
   "cell_type": "code",
   "execution_count": null,
   "metadata": {},
   "outputs": [],
   "source": [
    "thresh_sauvola = threshold_sauvola(resizedimg, window_size=15)\n",
    "sauvolaimg = resizedimg > thresh_sauvola\n",
    "plt.imshow(sauvolaimg, cmap=plt.cm.gray)\n",
    "plt.show()"
   ]
  },
  {
   "cell_type": "code",
   "execution_count": null,
   "metadata": {},
   "outputs": [],
   "source": [
    "otsuimg = resizedimg > threshold_otsu(resizedimg)\n",
    "plt.imshow(otsuimg, cmap=plt.cm.gray)\n",
    "plt.show()"
   ]
  },
  {
   "cell_type": "code",
   "execution_count": null,
   "metadata": {},
   "outputs": [],
   "source": [
    "# diffgaussimg = resizedimg > difference_of_gaussians(resizedimg, 1.5)\n",
    "# plt.imshow(diffgaussimg, cmap=plt.cm.gray)\n",
    "# plt.show()"
   ]
  },
  {
   "cell_type": "markdown",
   "metadata": {},
   "source": [
    "## Load data"
   ]
  },
  {
   "cell_type": "code",
   "execution_count": null,
   "metadata": {},
   "outputs": [],
   "source": [
    "def show_image(x):\n",
    "    plt.imshow(x, interpolation='nearest', cmap='gray')\n",
    "    plt.show()\n",
    "    \n",
    "\n",
    "def read_data(filename):\n",
    "    df = pd.read_csv(filename, header=None)\n",
    "    #data into numpy array\n",
    "    data = df.iloc[:, 1:].values.reshape(-1, 1, 28, 28) /255.0  \n",
    "    labels = df.iloc[:, 0].values\n",
    "    \n",
    "#     Temporary binarization with threshold of 0.5 since pixel value in between 0 and 1.\n",
    "    threshold = 0.5\n",
    "    data = np.where(data > threshold, 1, 0)\n",
    "    \n",
    "    return data, labels\n",
    "\n",
    "\n",
    "# Load the training and the test set\n",
    "train_data, train_labels = read_data(mnist_train)"
   ]
  },
  {
   "cell_type": "code",
   "execution_count": null,
   "metadata": {},
   "outputs": [],
   "source": [
    "# Selection of an image of the dataset to work with.\n",
    "img = train_data[1][0]\n",
    "m, n = np.shape(img)\n",
    "\n",
    "# Plot of the image\n",
    "show_image(img)"
   ]
  },
  {
   "cell_type": "markdown",
   "metadata": {},
   "source": [
    "## Features functions"
   ]
  },
  {
   "cell_type": "code",
   "execution_count": null,
   "metadata": {},
   "outputs": [],
   "source": [
    "# Returns the index of the pixel composing the lower contour of the shape.\n",
    "def lowerContour(feature_vector):\n",
    "#     If there is no black pixels\n",
    "    if np.size(np.where(feature_vector == 1)) == 0:\n",
    "        lc = None\n",
    "    else:\n",
    "        lc = np.max(np.where(feature_vector == 1))\n",
    "    return lc\n",
    "\n",
    "# Returns the index of the pixel composing the upper contour of the shape.\n",
    "def upperContour(feature_vector):\n",
    "#     If there is no black pixels\n",
    "    if np.size(np.where(feature_vector == 1)) == 0:\n",
    "        uc = None\n",
    "    else:\n",
    "        uc = np.min(np.where(feature_vector == 1))\n",
    "    return uc\n",
    "\n",
    "# -----\n",
    "# TODO \n",
    "# -----\n",
    "# Number of black and white transitions\n",
    "\n",
    "\n",
    "# Returns the fraction of blach pixels in the feature vector.\n",
    "def fracBlackPx(feature_vector):\n",
    "    nb_bp = (feature_vector == 1).sum()\n",
    "    fraction = nb_bp/np.size(feature_vector)\n",
    "    return fraction\n",
    "\n",
    "# Returns the fraction of blach pixels between the lower and upper contour of the feature vector.\n",
    "def fracBetweenLcUc(feature_vector, lc, uc):\n",
    "#     If there is no black pixels    \n",
    "    if lc == None or uc == None:\n",
    "        frac = None\n",
    "    else:\n",
    "        between = feature_vector[uc:lc+1] # +1 to put in the black pixel of the lower contour\n",
    "        frac = fracBlackPx(between)\n",
    "        \n",
    "    return frac\n",
    "\n",
    "# -----\n",
    "# TODO\n",
    "# -----\n",
    "# Gradient: difference LC[i] , UC[i] to LC[i+1] , UC[i+1]"
   ]
  },
  {
   "cell_type": "code",
   "execution_count": null,
   "metadata": {},
   "outputs": [],
   "source": [
    "# each column of the image is a feature vector (1 px wide)\n",
    "for i in range(m):\n",
    "    fv = img[:,i]\n",
    "    print(f\"feature vector {i}: {fv}\")\n",
    "    \n",
    "    lc = lowerContour(fv)\n",
    "    print(f\"lower contour: {lc}\")\n",
    "    \n",
    "    uc = upperContour(fv)\n",
    "    print(f\"upper contour: {uc}\")\n",
    "    \n",
    "    frac = fracBlackPx(fv)\n",
    "    print(f\"fraction: {frac}\")\n",
    "    \n",
    "    frac_lc_uc = fracBetweenLcUc(fv, lc, uc)\n",
    "    print(f\"fraction between lc and uc: {frac_lc_uc}\")\n",
    "    \n",
    "    print(\"\\n\")"
   ]
  },
  {
   "cell_type": "markdown",
   "metadata": {},
   "source": [
    "# Test to look at and binarize the cropped word-images"
   ]
  },
  {
   "cell_type": "code",
   "execution_count": null,
   "metadata": {},
   "outputs": [],
   "source": [
    "# import cropping\n",
    "\n",
    "# crop = cropping.masking(270)"
   ]
  },
  {
   "cell_type": "code",
   "execution_count": null,
   "metadata": {},
   "outputs": [],
   "source": [
    "# # Temporary threshold value.\n",
    "# t = 0.4\n",
    "\n",
    "# # First word-image of the file 207 with pixel values between 0 and 1.\n",
    "# a = crop[\"270-01-01\"]/255\n",
    "# show_image(a)\n",
    "# # Temporary binarization\n",
    "# a_bin = np.where(a > t, 1, 0)\n",
    "# show_image(a_bin)\n",
    "\n",
    "# b = crop[\"270-01-05\"]/255\n",
    "# show_image(b)\n",
    "# b_bin = np.where(b > t, 1, 0)\n",
    "# show_image(b_bin)\n",
    "\n",
    "# c = crop[\"270-01-06\"]/255\n",
    "# show_image(c)\n",
    "# c_bin = np.where(c > t, 1, 0)\n",
    "# show_image(c_bin)"
   ]
  }
 ],
 "metadata": {
  "kernelspec": {
   "display_name": "Python 3",
   "language": "python",
   "name": "python3"
  },
  "language_info": {
   "codemirror_mode": {
    "name": "ipython",
    "version": 3
   },
   "file_extension": ".py",
   "mimetype": "text/x-python",
   "name": "python",
   "nbconvert_exporter": "python",
   "pygments_lexer": "ipython3",
   "version": "3.7.4"
  }
 },
 "nbformat": 4,
 "nbformat_minor": 4
}
